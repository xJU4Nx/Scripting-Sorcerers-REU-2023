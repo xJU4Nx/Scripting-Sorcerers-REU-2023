{
 "cells": [
  {
   "cell_type": "markdown",
   "id": "7987fdaf-7f7c-4470-8eda-76286e953964",
   "metadata": {},
   "source": [
    "# Pandemic! Control a Pandemic Disease before it Runs Rampant\n",
    "_[Mini-workshop@SC22] November 13, 2022_ <br>\n",
    "Reference Site: https://hackhpc.github.io/StudentHackatSC22/\n",
    "\n",
    "A SIR model is an epidemiological model that computes the theoretical number of people infected with a contagious illness in a closed population over time. The name of this class of models derives from the fact that they involve coupled equations relating the number of susceptible people S(t), number of people infected I(t), and number of people who have recovered R(t).<br> \n",
    "\n",
    "<img src=\"images/SIR-model.png\" style=\"border: solid 2px black;\"></img>\n",
    "\n",
    "In this model, we've introduced 2 object classes, the Person Object, and the Population Object - essentially a collection of People. <br>\n",
    "\n",
    "We will use a simple model where a person can be:\n",
    "- susceptible: they are healthy, but can be infected;\n",
    "- sick: when they are sick, they can infect other people;\n",
    "- recovered: they have been sick, but no longer carry the disease, and can not be infected for a\n",
    "second time;\n",
    "- vaccinated: they are healthy, do not carry the disease, and can not be infected\n",
    "\n",
    "There will be a patient zero.<br><br>\n",
    "Some assumptions:\n",
    "- When a Person interacts with a Person with the status of \"sick\", that Person then has a 10% chance of becoming sick themselves.\n",
    "- Each Person interacts with the same constant number of people\n",
    "- A Person stays sick for 5 days\n",
    "- Once a Persons recovers, they become innoculated\n"
   ]
  },
  {
   "cell_type": "markdown",
   "id": "839c5092-d68e-48a8-94af-022ba960d32c",
   "metadata": {},
   "source": [
    "### Person object parameters:\n",
    "\n",
    "#### &#128100; Joe:\n",
    "##### has a state: Suceptable, Infected, Recovered\n",
    "##### has number of days sick &#129319;\n",
    "##### chance of being sick\n"
   ]
  },
  {
   "cell_type": "code",
   "execution_count": 4,
   "id": "5eea30be-ad7f-4da0-a86d-665dc2a9146a",
   "metadata": {},
   "outputs": [],
   "source": [
    "import numpy as np\n",
    "import random\n",
    "\n",
    "my_array = np.array"
   ]
  },
  {
   "cell_type": "code",
   "execution_count": 5,
   "id": "def204db-e0d2-4a44-ab04-21aa02b9aec3",
   "metadata": {},
   "outputs": [],
   "source": [
    "class Person(object):\n",
    "    def __init__(self):\n",
    "        self.status = \"Susceptible\"\n",
    "        self.days_sick = 0\n",
    "        self.sickness_rate = 10\n",
    "        self.Interaction = []\n",
    "        self.masked = False\n",
    "        \n",
    "    def maskUp(self, wears_mask):\n",
    "        if (wears_mask):\n",
    "            self.set_sickness_rate(self.sickness_rate/2)\n",
    "            self.masked = True\n",
    "    \n",
    "    def set_sickness_rate(self, new_rate):\n",
    "        self.sickness_rate = new_rate\n",
    "    \n",
    "    def infect(self, number_of_days_sick):\n",
    "        self.status = \"Infected\"\n",
    "        self.days_sick = number_of_days_sick\n",
    "    \n",
    "    def recover(self):\n",
    "        self.status = \"Recovered\"\n",
    "        self.days_sick = 0\n",
    "    \n",
    "    def update(self):\n",
    "        if (self.status == \"Susceptible\"):\n",
    "            self.roll_for_infection()\n",
    "            \n",
    "        elif (self.status == \"Infected\"):            \n",
    "            self.days_sick = self.days_sick - 1\n",
    "            if (self.days_sick <= 0):\n",
    "                self.recover()\n",
    "    \n",
    "    def update_days_sick(self):\n",
    "        if (self.status == \"Infected\"):            \n",
    "            self.days_sick = self.days_sick - 1\n",
    "            if (self.days_sick <= 0):\n",
    "                self.recover()\n",
    "            \n",
    "\n",
    "            \n",
    "    def roll_for_infection(self):\n",
    "        is_sick = (random.randint(0,101) < self.sickness_rate)\n",
    "        if (is_sick):\n",
    "            self.infect(4)\n",
    "            \n",
    "        "
   ]
  },
  {
   "cell_type": "markdown",
   "id": "74e87541-e941-4791-a2e9-4c1d513ce595",
   "metadata": {},
   "source": [
    "Let's implement our object,  </br>\n",
    "start w/ instantiating Joe as a Person and Jane as a Person"
   ]
  },
  {
   "cell_type": "code",
   "execution_count": 6,
   "id": "9bb17182-04c4-450d-87c8-84deba516ddf",
   "metadata": {},
   "outputs": [
    {
     "name": "stdout",
     "output_type": "stream",
     "text": [
      "Joe is Susceptible day:1\n",
      "Jane is Susceptible day:1\n",
      "Joe is Susceptible day:2\n",
      "Jane is Susceptible day:2\n",
      "Joe is Susceptible day:3\n",
      "Jane is Susceptible day:3\n",
      "Joe is Infected day:4\n",
      "Jane is Susceptible day:4\n",
      "Joe is Infected day:5\n",
      "Jane is Infected day:5\n",
      "Joe is Infected day:6\n",
      "Jane is Infected day:6\n",
      "Joe is Infected day:7\n",
      "Jane is Infected day:7\n",
      "Joe is Recovered day:8\n",
      "Jane is Infected day:8\n",
      "Joe is Recovered day:9\n",
      "Jane is Recovered day:9\n"
     ]
    }
   ],
   "source": [
    "Joe = Person()\n",
    "Jane = Person()\n",
    "Jane.set_sickness_rate(10) #jane has a different sickness rate, joe has the default\n",
    "\n",
    "day = 0\n",
    "\n",
    "while (Joe.status != \"Recovered\" or Jane.status != \"Recovered\"):\n",
    "    day = day + 1        \n",
    "    Joe.update()\n",
    "    if (Joe.status == \"Infected\" or Jane.status == \"Infected\"):\n",
    "        Jane.update()\n",
    "        \n",
    "        \n",
    "    print(\"Joe is \" + Joe.status + \" day:\" + str(day))\n",
    "    print(\"Jane is \" + Jane.status + \" day:\" + str(day))\n",
    "    \n",
    "    #My conditions didn't happen, let's rerun\n",
    "    #if Joe is recovered and Jane is still susceptable, the condtions for our program weren't met\n",
    "    #run it again!\n",
    "    if (Joe.status == \"Recovered\" and Jane.status == \"Susceptible\"):\n",
    "        Joe.status = \"Susceptible\"\n",
    "        day = 0\n",
    "        print()\n",
    "        print (\"------- reset -------\")\n"
   ]
  },
  {
   "cell_type": "markdown",
   "id": "87359155-ad4f-4530-b3e0-f39f92c98b8a",
   "metadata": {},
   "source": [
    "#### &#128101; Now, we're going to create a population of 100 Persons\n"
   ]
  },
  {
   "cell_type": "code",
   "execution_count": 9,
   "id": "62245fa8-fc12-445e-bcac-1f74f2ce77ae",
   "metadata": {},
   "outputs": [],
   "source": [
    "my_population = []\n",
    "n = 101\n",
    "for i in range(0,n):\n",
    "    generic_dude = Person()\n",
    "    my_population.append(generic_dude) # we now have a population of 100 people\n",
    "    "
   ]
  },
  {
   "cell_type": "code",
   "execution_count": 10,
   "id": "304aed05-e388-4606-b946-55dd5e993663",
   "metadata": {},
   "outputs": [
    {
     "name": "stdout",
     "output_type": "stream",
     "text": [
      "<class 'list'>\n"
     ]
    }
   ],
   "source": [
    "print (type(my_population))"
   ]
  },
  {
   "cell_type": "code",
   "execution_count": 11,
   "id": "89347799-ca95-483e-a75c-e5115f005ef6",
   "metadata": {},
   "outputs": [
    {
     "name": "stdout",
     "output_type": "stream",
     "text": [
      "101\n"
     ]
    }
   ],
   "source": [
    "print (len(my_population))"
   ]
  },
  {
   "cell_type": "code",
   "execution_count": 12,
   "id": "e5de4a26-6ca5-4e98-9ef1-33d3a4a7b4f9",
   "metadata": {},
   "outputs": [
    {
     "name": "stdout",
     "output_type": "stream",
     "text": [
      "<class '__main__.Person'>\n"
     ]
    }
   ],
   "source": [
    "print (type(my_population[99]))"
   ]
  },
  {
   "cell_type": "code",
   "execution_count": 13,
   "id": "f50847da-63e2-41d7-8125-2fe4755c8776",
   "metadata": {},
   "outputs": [
    {
     "name": "stdout",
     "output_type": "stream",
     "text": [
      "Infected\n"
     ]
    }
   ],
   "source": [
    "my_population[99].infect(10) # Let's see if our code works\n",
    "print (my_population[99].status)"
   ]
  },
  {
   "cell_type": "markdown",
   "id": "a5931a05-246c-4bbb-bc12-134dc9dcb76d",
   "metadata": {},
   "source": [
    "### Let see if we can figure out a way for Persons to interact"
   ]
  },
  {
   "cell_type": "code",
   "execution_count": 14,
   "id": "ebd2ec92-24cb-45b2-8389-e7b91d5bbfce",
   "metadata": {},
   "outputs": [
    {
     "name": "stdout",
     "output_type": "stream",
     "text": [
      "Person: 0  interacted with: [20, 74, 64, 62, 16, 69, 97, 52, 83, 58]\n",
      "Person: 1  interacted with: [23, 66, 53, 40, 91, 85, 62, 33, 82, 43]\n",
      "Person: 2  interacted with: [77, 28, 7, 55, 65, 46, 6, 6, 19, 46]\n",
      "Person: 3  interacted with: [61, 17, 9, 64, 11, 2, 47, 49, 18, 56]\n",
      "Person: 4  interacted with: [26, 9, 8, 20, 62, 29, 76, 8, 13, 86]\n",
      "Person: 5  interacted with: [65, 79, 57, 45, 62, 0, 53, 57, 90, 9]\n",
      "Person: 6  interacted with: [63, 11, 81, 38, 86, 34, 65, 72, 39, 78]\n",
      "Person: 7  interacted with: [73, 38, 26, 14, 5, 90, 21, 52, 62, 15]\n",
      "Person: 8  interacted with: [41, 42, 29, 73, 6, 20, 17, 50, 89, 52]\n",
      "Person: 9  interacted with: [84, 86, 27, 86, 29, 32, 85, 23, 46, 19]\n",
      "Person: 10  interacted with: [7, 99, 99, 1, 20, 51, 30, 86, 55, 35]\n",
      "Person: 11  interacted with: [83, 18, 62, 11, 2, 71, 85, 48, 40, 75]\n",
      "Person: 12  interacted with: [5, 24, 98, 33, 78, 19, 15, 64, 95, 7]\n",
      "Person: 13  interacted with: [19, 92, 95, 6, 16, 2, 21, 41, 41, 77]\n",
      "Person: 14  interacted with: [43, 74, 27, 58, 64, 52, 54, 60, 83, 11]\n",
      "Person: 15  interacted with: [28, 71, 62, 74, 89, 25, 27, 42, 68, 92]\n",
      "Person: 16  interacted with: [55, 60, 46, 77, 44, 73, 70, 57, 93, 26]\n",
      "Person: 17  interacted with: [74, 64, 15, 40, 67, 62, 11, 89, 88, 3]\n",
      "Person: 18  interacted with: [40, 99, 26, 93, 56, 41, 40, 13, 27, 60]\n",
      "Person: 19  interacted with: [84, 40, 48, 64, 20, 58, 12, 38, 93, 12]\n",
      "Person: 20  interacted with: [94, 62, 8, 60, 3, 5, 12, 76, 53, 54]\n",
      "Person: 21  interacted with: [46, 36, 98, 34, 39, 26, 16, 55, 82, 80]\n",
      "Person: 22  interacted with: [49, 80, 39, 97, 38, 22, 84, 6, 66, 81]\n",
      "Person: 23  interacted with: [5, 46, 59, 67, 41, 38, 6, 85, 32, 23]\n",
      "Person: 24  interacted with: [41, 6, 1, 96, 47, 32, 6, 67, 29, 6]\n",
      "Person: 25  interacted with: [48, 19, 48, 79, 33, 85, 6, 2, 59, 2]\n",
      "Person: 26  interacted with: [31, 11, 100, 47, 40, 42, 69, 25, 81, 2]\n",
      "Person: 27  interacted with: [24, 53, 91, 50, 97, 73, 45, 95, 26, 37]\n",
      "Person: 28  interacted with: [80, 26, 8, 15, 46, 12, 66, 7, 61, 2]\n",
      "Person: 29  interacted with: [75, 46, 13, 46, 76, 2, 37, 68, 97, 93]\n",
      "Person: 30  interacted with: [40, 41, 70, 32, 7, 87, 19, 18, 88, 41]\n",
      "Person: 31  interacted with: [42, 68, 56, 2, 3, 81, 49, 22, 81, 39]\n",
      "Person: 32  interacted with: [68, 66, 72, 66, 35, 8, 17, 50, 97, 26]\n",
      "Person: 33  interacted with: [77, 95, 92, 68, 5, 81, 2, 83, 74, 14]\n",
      "Person: 34  interacted with: [20, 32, 79, 88, 81, 52, 98, 88, 0, 38]\n",
      "Person: 35  interacted with: [7, 35, 83, 17, 9, 51, 59, 96, 62, 38]\n",
      "Person: 36  interacted with: [31, 55, 64, 13, 42, 31, 56, 28, 1, 6]\n",
      "Person: 37  interacted with: [56, 35, 85, 94, 63, 35, 75, 83, 21, 84]\n",
      "Person: 38  interacted with: [10, 97, 27, 80, 93, 64, 40, 91, 2, 36]\n",
      "Person: 39  interacted with: [62, 28, 24, 78, 50, 85, 18, 67, 57, 77]\n",
      "Person: 40  interacted with: [88, 7, 34, 52, 28, 93, 96, 2, 26, 63]\n",
      "Person: 41  interacted with: [23, 62, 74, 41, 95, 100, 4, 88, 49, 17]\n",
      "Person: 42  interacted with: [1, 91, 76, 59, 61, 64, 39, 79, 75, 28]\n",
      "Person: 43  interacted with: [62, 7, 10, 93, 94, 44, 42, 92, 49, 22]\n",
      "Person: 44  interacted with: [45, 1, 70, 100, 95, 12, 57, 54, 87, 97]\n",
      "Person: 45  interacted with: [94, 28, 50, 55, 1, 8, 0, 28, 58, 77]\n",
      "Person: 46  interacted with: [66, 36, 88, 69, 86, 14, 14, 42, 55, 94]\n",
      "Person: 47  interacted with: [33, 35, 13, 38, 14, 100, 53, 78, 90, 6]\n",
      "Person: 48  interacted with: [76, 65, 34, 39, 78, 43, 13, 54, 9, 15]\n",
      "Person: 49  interacted with: [26, 67, 37, 20, 21, 41, 10, 45, 71, 49]\n",
      "Person: 50  interacted with: [75, 17, 5, 29, 66, 88, 99, 75, 3, 34]\n",
      "Person: 51  interacted with: [66, 1, 23, 25, 78, 17, 13, 18, 58, 40]\n",
      "Person: 52  interacted with: [22, 62, 55, 30, 44, 16, 17, 69, 96, 53]\n",
      "Person: 53  interacted with: [62, 59, 58, 42, 15, 48, 72, 38, 38, 29]\n",
      "Person: 54  interacted with: [81, 6, 44, 42, 100, 100, 7, 25, 28, 41]\n",
      "Person: 55  interacted with: [70, 87, 65, 52, 26, 65, 26, 8, 18, 99]\n",
      "Person: 56  interacted with: [94, 72, 49, 16, 15, 14, 4, 93, 90, 25]\n",
      "Person: 57  interacted with: [54, 15, 45, 41, 100, 38, 23, 66, 98, 81]\n",
      "Person: 58  interacted with: [51, 22, 94, 39, 52, 6, 87, 76, 21, 34]\n",
      "Person: 59  interacted with: [2, 85, 61, 27, 95, 100, 9, 13, 24, 2]\n",
      "Person: 60  interacted with: [89, 37, 1, 80, 8, 45, 76, 27, 81, 2]\n",
      "Person: 61  interacted with: [67, 71, 61, 73, 43, 82, 39, 6, 31, 12]\n",
      "Person: 62  interacted with: [64, 41, 71, 6, 32, 32, 62, 78, 21, 38]\n",
      "Person: 63  interacted with: [79, 3, 85, 41, 30, 98, 87, 52, 10, 53]\n",
      "Person: 64  interacted with: [27, 72, 98, 1, 98, 29, 98, 86, 86, 59]\n",
      "Person: 65  interacted with: [18, 97, 11, 48, 29, 66, 68, 97, 11, 59]\n",
      "Person: 66  interacted with: [34, 26, 0, 20, 61, 84, 92, 41, 35, 67]\n",
      "Person: 67  interacted with: [24, 68, 73, 69, 95, 75, 59, 14, 2, 9]\n",
      "Person: 68  interacted with: [82, 8, 47, 62, 34, 48, 10, 75, 92, 75]\n",
      "Person: 69  interacted with: [46, 48, 78, 42, 83, 22, 30, 54, 18, 3]\n",
      "Person: 70  interacted with: [62, 46, 85, 10, 26, 8, 26, 56, 36, 31]\n",
      "Person: 71  interacted with: [85, 65, 59, 37, 47, 35, 64, 59, 97, 55]\n",
      "Person: 72  interacted with: [28, 53, 79, 23, 75, 47, 73, 66, 78, 10]\n",
      "Person: 73  interacted with: [74, 13, 5, 59, 7, 12, 97, 18, 69, 13]\n",
      "Person: 74  interacted with: [23, 91, 19, 72, 33, 56, 74, 29, 79, 38]\n",
      "Person: 75  interacted with: [41, 37, 59, 97, 54, 40, 62, 25, 83, 83]\n",
      "Person: 76  interacted with: [47, 41, 40, 71, 70, 6, 91, 66, 43, 57]\n",
      "Person: 77  interacted with: [87, 40, 71, 38, 17, 81, 11, 2, 41, 15]\n",
      "Person: 78  interacted with: [39, 18, 28, 75, 85, 30, 17, 56, 62, 2]\n",
      "Person: 79  interacted with: [50, 44, 94, 15, 85, 50, 24, 69, 60, 20]\n",
      "Person: 80  interacted with: [5, 82, 88, 70, 81, 57, 2, 97, 20, 74]\n",
      "Person: 81  interacted with: [70, 0, 41, 41, 3, 61, 8, 69, 73, 78]\n",
      "Person: 82  interacted with: [30, 6, 68, 1, 86, 100, 59, 75, 56, 39]\n",
      "Person: 83  interacted with: [18, 12, 59, 37, 95, 17, 34, 63, 3, 74]\n",
      "Person: 84  interacted with: [16, 92, 48, 39, 15, 40, 42, 70, 38, 50]\n",
      "Person: 85  interacted with: [85, 27, 66, 39, 65, 91, 36, 46, 30, 7]\n",
      "Person: 86  interacted with: [80, 98, 83, 47, 24, 92, 2, 10, 55, 29]\n",
      "Person: 87  interacted with: [24, 8, 78, 49, 59, 43, 92, 77, 49, 80]\n",
      "Person: 88  interacted with: [21, 68, 77, 5, 73, 64, 59, 41, 66, 68]\n",
      "Person: 89  interacted with: [100, 6, 39, 52, 80, 14, 50, 69, 51, 11]\n",
      "Person: 90  interacted with: [10, 44, 23, 20, 60, 85, 78, 96, 37, 52]\n",
      "Person: 91  interacted with: [88, 42, 97, 9, 53, 66, 11, 47, 13, 42]\n",
      "Person: 92  interacted with: [66, 64, 2, 95, 6, 85, 63, 70, 54, 72]\n",
      "Person: 93  interacted with: [97, 70, 70, 62, 93, 17, 76, 9, 53, 50]\n",
      "Person: 94  interacted with: [37, 1, 82, 76, 61, 6, 19, 64, 27, 68]\n",
      "Person: 95  interacted with: [75, 17, 36, 77, 86, 68, 2, 8, 24, 68]\n",
      "Person: 96  interacted with: [96, 85, 52, 84, 7, 21, 35, 69, 53, 37]\n",
      "Person: 97  interacted with: [66, 95, 38, 85, 49, 49, 38, 47, 65, 84]\n",
      "Person: 98  interacted with: [21, 23, 59, 70, 85, 91, 16, 56, 34, 71]\n",
      "Person: 99  interacted with: [22, 16, 47, 54, 44, 45, 20, 46, 83, 90]\n",
      "Person: 100  interacted with: [13, 58, 43, 51, 91, 15, 23, 98, 48, 25]\n"
     ]
    }
   ],
   "source": [
    "interactions = []\n",
    "index = -1\n",
    "for p in my_population:\n",
    "    p_interactions = []\n",
    "    for i in range(0,10):\n",
    "        r = random.randint(0,100)\n",
    "        p_interactions.append(r)\n",
    "    interactions.append(p_interactions)\n",
    "\n",
    "for i in interactions:\n",
    "    index = index + 1\n",
    "    print (\"Person:\", index, \" interacted with:\", i)"
   ]
  },
  {
   "cell_type": "markdown",
   "id": "c8c6ea89-cabd-473e-8fda-d53cd94142a2",
   "metadata": {},
   "source": [
    "Randomly Infect 10 people\n",
    "print out the number of people who are sick at the beginning of day 1\n",
    "\n",
    "We're going to simulate Day 1\n",
    "If anyone interacts with these 10 people, they must roll a die to see if they get sick\n",
    "\n",
    "meaning, every sick person that shows up in someones interaction list, that someone rolls to see if they get sick or not.\n",
    "\n",
    "Also, *every* person who shows up in a sick persons interaction list, has to roll to see if they get sick or not.\n",
    "\n",
    "Print out the number of people sick after day 1"
   ]
  },
  {
   "cell_type": "code",
   "execution_count": 15,
   "id": "8b2f1750-a781-4c9f-8931-981563f22d0d",
   "metadata": {},
   "outputs": [],
   "source": [
    "#first thing: infect 10 people\n",
    "\n",
    "#print out the number of people who are sick\n",
    "\n",
    "#look at their interaction lists\n",
    "\n",
    "#If anyone interacts with them, see if they get sick\n",
    "\n",
    "\n"
   ]
  },
  {
   "cell_type": "code",
   "execution_count": 16,
   "id": "dba36a2f-59cf-4f30-a376-2066843ffb75",
   "metadata": {},
   "outputs": [
    {
     "name": "stdout",
     "output_type": "stream",
     "text": [
      "Day 1, number of people sick:10\n",
      "[6, 66, 15, 85, 86, 16, 80, 13, 0, 98]\n",
      "End of Day 1, number of people sick: 37\n",
      "[6, 66, 15, 85, 86, 16, 80, 13, 0, 98, 1, 93, 10, 99, 36, 55, 34, 21, 41, 74, 17, 35, 24, 62, 53, 97, 64, 14, 73, 87, 31, 77, 82, 88, 57, 75, 5]\n"
     ]
    }
   ],
   "source": [
    "# We're selecting 10 indexes of people we're going to infect\n",
    "currently_infected = random.sample(range(100), 10)\n",
    "\n",
    "for i in currently_infected:\n",
    "    my_population[i].infect(5)\n",
    "\n",
    "\n",
    "print (\"Day 1, number of people sick:\" + str(len(currently_infected)))\n",
    "print (currently_infected)\n",
    "\n",
    "interactions = []\n",
    "person_index = -1\n",
    "for p in my_population:\n",
    "    person_index = person_index + 1\n",
    "\n",
    "    # if person_index is in the currently_sick list, everyone they interact w/ can get sick\n",
    "    \n",
    "    p_interactions = []\n",
    "    for i in range(0,10):        \n",
    "        r = random.randint(0,99)\n",
    "        p_interactions.append(r)\n",
    "\n",
    "        #If person_index is already sick, everyone they contact, might also get sick\n",
    "        \n",
    "        if (person_index in currently_infected):\n",
    "            my_population[r].update()\n",
    "            if (my_population[r].status == \"Infected\" and r not in currently_infected):\n",
    "                currently_infected.append(r)\n",
    "        #If anyone has an infected person in their interactions list, *they* might get infected\n",
    "        if (r in currently_infected):\n",
    "            my_population[person_index].update()\n",
    "            if (my_population[person_index].status == \"Infected\" and person_index not in currently_infected):\n",
    "                currently_infected.append(person_index)\n",
    "    interactions.append(p_interactions)\n",
    "        \n",
    "        \n",
    "# person_index = -1\n",
    "# for i in interactions:\n",
    "#     person_index = person_index + 1\n",
    "#     print (\"Person:\", person_index, \" interacted with:\", i)\n",
    "\n",
    "print (\"End of Day 1, number of people sick:\", len(currently_infected))\n",
    "print (currently_infected)"
   ]
  },
  {
   "cell_type": "markdown",
   "id": "f86b3a12-460e-4939-ba98-42ec406cca52",
   "metadata": {},
   "source": [
    "## We need \"something\" to manage and hold our People"
   ]
  },
  {
   "cell_type": "code",
   "execution_count": 17,
   "id": "1754a1c7-4f89-427b-9161-b891b9c10aaa",
   "metadata": {},
   "outputs": [],
   "source": [
    "class Population:\n",
    "    def __init__(self, number=100, interaction=10, percentage_masked=0):\n",
    "        self.People = []\n",
    "        self.number = number\n",
    "        self.interaction = interaction\n",
    "        self.percentage_masked = percentage_masked\n",
    "        \n",
    "        if (number < 100):\n",
    "            self.number = 100\n",
    "        \n",
    "        if (interaction < 10):\n",
    "            self.interaction = 10\n",
    "        \n",
    "        ##build our population\n",
    "        patient_Zero = Person()\n",
    "        patient_Zero.infect(5)\n",
    "        \n",
    "        self.People.append(patient_Zero)\n",
    "        \n",
    "        for i in range(0,number):\n",
    "            p = Person()\n",
    "            if (i < number*(self.percentage_masked/100.0) and self.percentage_masked>0):\n",
    "                p.maskUp(True)\n",
    "                \n",
    "            self.People.append(p)\n",
    "\n",
    "               \n",
    "            \n",
    "    def number_of_sick(self):\n",
    "        sick_Count = 0\n",
    "        for j in self.People:\n",
    "            if (j.status == \"Infected\"):\n",
    "                sick_Count = sick_Count + 1\n",
    "                \n",
    "        return sick_Count\n",
    "    \n",
    "    def number_of_recovered(self):\n",
    "        recovered_Count = 0\n",
    "        for j in self.People:\n",
    "            if (j.status == \"Recovered\"):\n",
    "                recovered_Count = recovered_Count + 1\n",
    "        \n",
    "        return recovered_Count\n",
    "    \n",
    "    def number_of_susceptible(self):\n",
    "        susceptible_Count = 0\n",
    "        for j in self.People:\n",
    "            if (j.status == \"Susceptible\"):\n",
    "                susceptible_Count = susceptible_Count + 1\n",
    "                \n",
    "        return susceptible_Count\n",
    "    \n",
    "    def number_masked(self):\n",
    "        masked_Count = 0\n",
    "        for j in self.People:\n",
    "            if (j.masked):\n",
    "                masked_Count = masked_Count + 1\n",
    "        \n",
    "        return masked_Count\n",
    "    \n",
    "    def number_masked_sick(self):\n",
    "        masked_SickCount = 0\n",
    "        for j in self.People:\n",
    "            if (j.masked and j.status == \"Infected\"):\n",
    "                masked_SickCount = masked_SickCount + 1\n",
    "        \n",
    "        return masked_SickCount\n",
    "    \n",
    "    ## Here's the brains of the Population class (and our code)\n",
    "    ## the update will be ran everyday (meaning, every iteration of our while loop)\n",
    "    ## build interaction tables (who interacted with whom)\n",
    "    ## if marked sick they must roll to see if (one per interaction)\n",
    "    ## if I interacted with 10 people, each of them must roll and vice versa if they\n",
    "    ## they were marked as infected\n",
    "    def update(self):\n",
    "        ## people who are might get sick\n",
    "        might_Get_Sick = []\n",
    "        \n",
    "        for person in self.People:\n",
    "            \n",
    "            #clear out your interactions per day\n",
    "            person.Interaction = []\n",
    "            \n",
    "            ##These are the n number of people that you interact with\n",
    "            for i in range(0, self.interaction):\n",
    "                r = random.randint(0,self.number)\n",
    "                person.Interaction.append(r)\n",
    "                \n",
    "            ##if \"person\" is Infected, every single person they interacted with might get sick\n",
    "            if (person.status == \"Infected\"):\n",
    "                person.update_days_sick()\n",
    "                \n",
    "                for m in person.Interaction:\n",
    "                    if (self.People[m].status == \"Susceptible\"): #only susceptible people can get sick\n",
    "                        might_Get_Sick.append(self.People[m])\n",
    "            \n",
    "            ##if \"person\" is susceptible and they interact w/ someone who is \"infected\" \n",
    "            ##person gets added to the \"might get sick\"\n",
    "            if (person.status == \"Susceptible\"):\n",
    "                for m in person.Interaction:\n",
    "                    if (self.People[m].status == \"Infected\"):\n",
    "                        might_Get_Sick.append(person)\n",
    "            \n",
    "        ##Now! We're going to roll through our \"Might Get Sick\" and they each roll a die\n",
    "        ##this is only a list of susceptible people\n",
    "        for p in might_Get_Sick:\n",
    "            p.roll_for_infection()\n",
    "        "
   ]
  },
  {
   "cell_type": "markdown",
   "id": "791a50f6-5ef7-40c8-8ec2-8003386e2a5c",
   "metadata": {},
   "source": [
    "## Lets build a population\n",
    "Build a population of 1000 with 10 initally infected people:\n",
    "`myCommunity = Population(1000,10)`"
   ]
  },
  {
   "cell_type": "code",
   "execution_count": 18,
   "id": "202dbdf6-18f6-48cb-9b1e-4b4f01c9d95d",
   "metadata": {},
   "outputs": [
    {
     "name": "stdout",
     "output_type": "stream",
     "text": [
      "day: 0 Number of sick: 1\n",
      "day: 1 Number of sick: 3\n",
      "day: 2 Number of sick: 7\n",
      "day: 3 Number of sick: 25\n",
      "day: 4 Number of sick: 79\n",
      "day: 5 Number of sick: 241\n",
      "day: 6 Number of sick: 706\n",
      "day: 7 Number of sick: 2004\n",
      "day: 8 Number of sick: 5520\n",
      "day: 9 Number of sick: 13392\n",
      "day: 10 Number of sick: 25617\n",
      "day: 11 Number of sick: 34105\n",
      "day: 12 Number of sick: 33674\n",
      "day: 13 Number of sick: 26215\n",
      "day: 14 Number of sick: 13626\n",
      "day: 15 Number of sick: 3843\n",
      "day: 16 Number of sick: 708\n",
      "day: 17 Number of sick: 131\n",
      "day: 18 Number of sick: 26\n",
      "day: 19 Number of sick: 5\n",
      "day: 20 Number of sick: 1\n",
      "day: 21 Number of sick: 0\n",
      "Number recovered: 39982\n",
      "Number susceptible: 19\n"
     ]
    }
   ],
   "source": [
    "# Population( size_of_population, number_of_interactions, percentage_wearing_masks)\n",
    "myCommunity = Population(40000,5)\n",
    "day = 0\n",
    "my_plot = []\n",
    "number_sick = myCommunity.number_of_sick()\n",
    "while (number_sick > 0):\n",
    "    number_sick = myCommunity.number_of_sick()\n",
    "    number_recovered = myCommunity.number_of_recovered()\n",
    "    number_masked = myCommunity.number_masked()\n",
    "    number_masked_sick = myCommunity.number_masked_sick()\n",
    "    \n",
    "    my_plot.append([day, number_sick, number_recovered])\n",
    "    \n",
    "    if (myCommunity.percentage_masked > 0):\n",
    "        print (\"day:\", day, \"Number of sick:\", number_sick, \"Sick Mask Wearers:\", number_masked_sick, \"Mask Wearers:\", number_masked)\n",
    "    else:\n",
    "        print (\"day:\", day, \"Number of sick:\", number_sick)\n",
    "    \n",
    "    day = day+1\n",
    "    myCommunity.update()\n",
    "\n",
    "#print (\"day:\", day, \"Number of sick:\", myCommunity.number_of_sick())\n",
    "print (\"Number recovered:\", myCommunity.number_of_recovered())\n",
    "print (\"Number susceptible:\", myCommunity.number_of_susceptible())\n",
    "\n",
    "#print (my_plot)"
   ]
  },
  {
   "cell_type": "markdown",
   "id": "54e0220b-63cf-4cd2-b594-459383d0014a",
   "metadata": {},
   "source": [
    "# &#128202; Plot your results"
   ]
  },
  {
   "cell_type": "code",
   "execution_count": 19,
   "id": "48b285d4-abd9-4044-9621-2dcb8b24e08e",
   "metadata": {},
   "outputs": [],
   "source": [
    "import pandas as pd\n",
    "import matplotlib.pyplot as plt"
   ]
  },
  {
   "cell_type": "code",
   "execution_count": 20,
   "id": "0378df8e-349a-4fcf-b5ac-979ccced8ae4",
   "metadata": {},
   "outputs": [],
   "source": [
    "df = pd.DataFrame(my_plot, columns=['day','number_sick', 'number_recovered'])"
   ]
  },
  {
   "cell_type": "code",
   "execution_count": 21,
   "id": "1d85771a-13a5-47f8-b830-79094319b2e2",
   "metadata": {},
   "outputs": [
    {
     "data": {
      "text/html": [
       "<div>\n",
       "<style scoped>\n",
       "    .dataframe tbody tr th:only-of-type {\n",
       "        vertical-align: middle;\n",
       "    }\n",
       "\n",
       "    .dataframe tbody tr th {\n",
       "        vertical-align: top;\n",
       "    }\n",
       "\n",
       "    .dataframe thead th {\n",
       "        text-align: right;\n",
       "    }\n",
       "</style>\n",
       "<table border=\"1\" class=\"dataframe\">\n",
       "  <thead>\n",
       "    <tr style=\"text-align: right;\">\n",
       "      <th></th>\n",
       "      <th>day</th>\n",
       "      <th>number_sick</th>\n",
       "      <th>number_recovered</th>\n",
       "    </tr>\n",
       "  </thead>\n",
       "  <tbody>\n",
       "    <tr>\n",
       "      <th>0</th>\n",
       "      <td>0</td>\n",
       "      <td>1</td>\n",
       "      <td>0</td>\n",
       "    </tr>\n",
       "    <tr>\n",
       "      <th>1</th>\n",
       "      <td>1</td>\n",
       "      <td>3</td>\n",
       "      <td>0</td>\n",
       "    </tr>\n",
       "    <tr>\n",
       "      <th>2</th>\n",
       "      <td>2</td>\n",
       "      <td>7</td>\n",
       "      <td>0</td>\n",
       "    </tr>\n",
       "    <tr>\n",
       "      <th>3</th>\n",
       "      <td>3</td>\n",
       "      <td>25</td>\n",
       "      <td>0</td>\n",
       "    </tr>\n",
       "    <tr>\n",
       "      <th>4</th>\n",
       "      <td>4</td>\n",
       "      <td>79</td>\n",
       "      <td>0</td>\n",
       "    </tr>\n",
       "    <tr>\n",
       "      <th>5</th>\n",
       "      <td>5</td>\n",
       "      <td>241</td>\n",
       "      <td>3</td>\n",
       "    </tr>\n",
       "    <tr>\n",
       "      <th>6</th>\n",
       "      <td>6</td>\n",
       "      <td>706</td>\n",
       "      <td>7</td>\n",
       "    </tr>\n",
       "    <tr>\n",
       "      <th>7</th>\n",
       "      <td>7</td>\n",
       "      <td>2004</td>\n",
       "      <td>25</td>\n",
       "    </tr>\n",
       "    <tr>\n",
       "      <th>8</th>\n",
       "      <td>8</td>\n",
       "      <td>5520</td>\n",
       "      <td>79</td>\n",
       "    </tr>\n",
       "    <tr>\n",
       "      <th>9</th>\n",
       "      <td>9</td>\n",
       "      <td>13392</td>\n",
       "      <td>244</td>\n",
       "    </tr>\n",
       "    <tr>\n",
       "      <th>10</th>\n",
       "      <td>10</td>\n",
       "      <td>25617</td>\n",
       "      <td>713</td>\n",
       "    </tr>\n",
       "    <tr>\n",
       "      <th>11</th>\n",
       "      <td>11</td>\n",
       "      <td>34105</td>\n",
       "      <td>2029</td>\n",
       "    </tr>\n",
       "    <tr>\n",
       "      <th>12</th>\n",
       "      <td>12</td>\n",
       "      <td>33674</td>\n",
       "      <td>5599</td>\n",
       "    </tr>\n",
       "    <tr>\n",
       "      <th>13</th>\n",
       "      <td>13</td>\n",
       "      <td>26215</td>\n",
       "      <td>13636</td>\n",
       "    </tr>\n",
       "    <tr>\n",
       "      <th>14</th>\n",
       "      <td>14</td>\n",
       "      <td>13626</td>\n",
       "      <td>26330</td>\n",
       "    </tr>\n",
       "    <tr>\n",
       "      <th>15</th>\n",
       "      <td>15</td>\n",
       "      <td>3843</td>\n",
       "      <td>36134</td>\n",
       "    </tr>\n",
       "    <tr>\n",
       "      <th>16</th>\n",
       "      <td>16</td>\n",
       "      <td>708</td>\n",
       "      <td>39273</td>\n",
       "    </tr>\n",
       "    <tr>\n",
       "      <th>17</th>\n",
       "      <td>17</td>\n",
       "      <td>131</td>\n",
       "      <td>39851</td>\n",
       "    </tr>\n",
       "    <tr>\n",
       "      <th>18</th>\n",
       "      <td>18</td>\n",
       "      <td>26</td>\n",
       "      <td>39956</td>\n",
       "    </tr>\n",
       "    <tr>\n",
       "      <th>19</th>\n",
       "      <td>19</td>\n",
       "      <td>5</td>\n",
       "      <td>39977</td>\n",
       "    </tr>\n",
       "    <tr>\n",
       "      <th>20</th>\n",
       "      <td>20</td>\n",
       "      <td>1</td>\n",
       "      <td>39981</td>\n",
       "    </tr>\n",
       "    <tr>\n",
       "      <th>21</th>\n",
       "      <td>21</td>\n",
       "      <td>0</td>\n",
       "      <td>39982</td>\n",
       "    </tr>\n",
       "  </tbody>\n",
       "</table>\n",
       "</div>"
      ],
      "text/plain": [
       "    day  number_sick  number_recovered\n",
       "0     0            1                 0\n",
       "1     1            3                 0\n",
       "2     2            7                 0\n",
       "3     3           25                 0\n",
       "4     4           79                 0\n",
       "5     5          241                 3\n",
       "6     6          706                 7\n",
       "7     7         2004                25\n",
       "8     8         5520                79\n",
       "9     9        13392               244\n",
       "10   10        25617               713\n",
       "11   11        34105              2029\n",
       "12   12        33674              5599\n",
       "13   13        26215             13636\n",
       "14   14        13626             26330\n",
       "15   15         3843             36134\n",
       "16   16          708             39273\n",
       "17   17          131             39851\n",
       "18   18           26             39956\n",
       "19   19            5             39977\n",
       "20   20            1             39981\n",
       "21   21            0             39982"
      ]
     },
     "execution_count": 21,
     "metadata": {},
     "output_type": "execute_result"
    }
   ],
   "source": [
    "df"
   ]
  },
  {
   "cell_type": "code",
   "execution_count": 22,
   "id": "67eafb8e-5193-44f9-b6f4-8c612213fc68",
   "metadata": {},
   "outputs": [
    {
     "data": {
      "image/png": "[encoded data removed]",
      "text/plain": [
       "<Figure size 432x288 with 1 Axes>"
      ]
     },
     "metadata": {
      "needs_background": "light"
     },
     "output_type": "display_data"
    }
   ],
   "source": [
    "fig = plt.figure()\n",
    "ax = plt.gca()\n",
    "fig = df.plot(kind='line', x='day', y='number_sick', ax=ax).get_figure()\n",
    "plt.savefig('test.png', bbox_inches='tight')\n",
    "plt.show()"
   ]
  },
  {
   "cell_type": "code",
   "execution_count": 23,
   "id": "0f39ff0a-518b-49b8-b4e8-62a770dc8ef3",
   "metadata": {},
   "outputs": [
    {
     "data": {
      "image/png": "[encoded data removed]",
      "text/plain": [
       "<Figure size 432x288 with 1 Axes>"
      ]
     },
     "metadata": {
      "needs_background": "light"
     },
     "output_type": "display_data"
    }
   ],
   "source": [
    "fig = plt.figure()\n",
    "ax = plt.gca()\n",
    "fig = df.plot(kind='line', x='day', y='number_recovered', ax=ax).get_figure()\n",
    "plt.savefig('test.png', bbox_inches='tight')\n",
    "plt.show()"
   ]
  },
  {
   "cell_type": "code",
   "execution_count": 24,
   "id": "ee2eca21-c03b-4e99-8d65-cb3c848b2ded",
   "metadata": {},
   "outputs": [
    {
     "data": {
      "image/png": "[encoded data removed]",
      "text/plain": [
       "<Figure size 432x288 with 1 Axes>"
      ]
     },
     "metadata": {
      "needs_background": "light"
     },
     "output_type": "display_data"
    }
   ],
   "source": [
    "fig = plt.figure()\n",
    "ax1 = plt.gca()\n",
    "fig1 = df.plot(kind='line', x='day', y='number_recovered', ax=ax1).get_figure()\n",
    "fig2 = df.plot(kind='line', x='day', y='number_sick', ax=ax1).get_figure()\n",
    "plt.savefig('test.png')\n",
    "plt.show()"
   ]
  },
  {
   "cell_type": "code",
   "execution_count": 25,
   "id": "bbd9818d-2e03-40e7-b2ed-ce346978c812",
   "metadata": {},
   "outputs": [],
   "source": [
    "df.to_csv(\"mydata.csv\")"
   ]
  },
  {
   "cell_type": "markdown",
   "id": "d7f7f4a2-4646-4b37-a6dc-7dcd6432fa92",
   "metadata": {},
   "source": [
    "# Adding an \"Intervention\": Incorporating Mask Wearing\n",
    "\n",
    "Ref: Mask Effectiveness: https://www.cdc.gov/mmwr/volumes/71/wr/mm7106e1.htm \n",
    "\n",
    "Modify the `myCommunity = Population(40000,5,0)` decleration.\n",
    "\n",
    "_Syntax:_\n",
    "\n",
    "```Population( size_of_population, number_of_interactions, percentage_wearing_masks)```\n"
   ]
  },
  {
   "cell_type": "markdown",
   "id": "66f65919-598e-4d57-abda-8f4a62148121",
   "metadata": {},
   "source": [
    "---\n",
    "<img src=\"images/Covid-SEIR-model.png\" style=\"border: solid 2px black;\"></img>\n",
    "\n",
    "<h1 style=\"color: purple;\">&#127942; SC22 Mini-Workshop Challenge</h1>\n",
    "\n",
    "Your challenge is to add interventions to the code based on the population and availability of ICU beds in Texarkana, TX so that critical care is never overwhlemed. You will need to find or designate a Critical Care Rate of no less than 25% without a vaccine.\n",
    "\n",
    "**Suggested interventions:**\n",
    "- &#128567; Masks \n",
    "- &#128137; Vaccinations  \n",
    "- &#128694; Social Distancing \n",
    "\n",
    "<h2 style=\"color:Green\"> Texarkana Specific References:</h2>\n",
    "\n",
    "Ref: Individual Hospital Statistics for Texas: https://www.ahd.com/states/hospital_TX.html\n",
    "\n",
    "&#128657; **Texarkana, TX Hospital Beds:**\n",
    "\n",
    " - CHRISTUS Saint Michael Hospital - 275 Total Beds / Special Care - 40\n",
    " - Wadley Regional Medical Center - 185 Total Beds / Special Care - 26\n",
    " \n",
    " **&#128719; Total 66 ICU Beds**\n",
    "\n",
    "\n",
    " ### CDC References:\n",
    " - Example Hospitalization Rates Pre-Vaccine: https://www.cdc.gov/mmwr/volumes/69/wr/mm6915e3.htm\n",
    " - Death Rates between Vaccinated and Unvaccinated: https://www.cdc.gov/mmwr/volumes/71/wr/mm7104e2.htm#T1_down \n",
    " - Mask Effectiveness: https://www.cdc.gov/mmwr/volumes/71/wr/mm7106e1.htm\n",
    " \n",
    "\n",
    "\n",
    "\n"
   ]
  },
  {
   "cell_type": "code",
   "execution_count": null,
   "id": "216e8937-3863-4f65-95e3-0d9bf72bbef2",
   "metadata": {},
   "outputs": [],
   "source": []
  }
 ],
 "metadata": {
  "IMAGE_NAME": "taccsciapps/ds-nb-img:base-0.1.1",
  "UUID": "f5fba3ea-e6a5-11ec-b09d-b6ecb6431114",
  "kernelspec": {
   "display_name": "Python 3 (ipykernel)",
   "language": "python",
   "name": "python3"
  },
  "language_info": {
   "codemirror_mode": {
    "name": "ipython",
    "version": 3
   },
   "file_extension": ".py",
   "mimetype": "text/x-python",
   "name": "python",
   "nbconvert_exporter": "python",
   "pygments_lexer": "ipython3",
   "version": "3.9.10"
  }
 },
 "nbformat": 4,
 "nbformat_minor": 5
}
